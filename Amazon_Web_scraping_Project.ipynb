{
  "nbformat": 4,
  "nbformat_minor": 0,
  "metadata": {
    "colab": {
      "provenance": [],
      "authorship_tag": "ABX9TyNBPPYAKk4VEZiThXoGWnFT",
      "include_colab_link": true
    },
    "kernelspec": {
      "name": "python3",
      "display_name": "Python 3"
    },
    "language_info": {
      "name": "python"
    }
  },
  "cells": [
    {
      "cell_type": "markdown",
      "metadata": {
        "id": "view-in-github",
        "colab_type": "text"
      },
      "source": [
        "<a href=\"https://colab.research.google.com/github/Kolexx/Economy_of_the_United_Kingdom-DAta-project/blob/main/Amazon_Web_scraping_Project.ipynb\" target=\"_parent\"><img src=\"https://colab.research.google.com/assets/colab-badge.svg\" alt=\"Open In Colab\"/></a>"
      ]
    },
    {
      "cell_type": "code",
      "execution_count": 48,
      "metadata": {
        "id": "8ZGayWPEx-s1"
      },
      "outputs": [],
      "source": [
        "#Import Libraries\n",
        "import pandas as pd\n",
        "from bs4 import BeautifulSoup\n",
        "import requests\n",
        "import time\n",
        "import datetime\n",
        "import csv\n",
        "import smtplib"
      ]
    },
    {
      "cell_type": "code",
      "source": [
        "# connect to url\n",
        "URL = 'https://www.amazon.co.uk/Singer-4411-Heavy-Sewing-Machine/dp/B008CCK4RC/ref=sr_1_6?c=ts&dib=eyJ2IjoiMSJ9.codlmfQPk8aSg-c3z6CboM5EiC3bMvTnEepqywmT6oHpwz7hp5g9YMGTfnxafNE-PKMswrM8LFo_egWe0QYO4_em0keSNBKjLxKC9-8tM-vdMzFmYOuRPbGOn4ModY5zydT4LE6juwRzmUQQyyseSOQ7wCdW1IVmXfDocqDf0uQMTDq24xvxO68NZuadbDFvOKhLHCLh6wRd03CGuyknUTkuYQ5_LeHWHwDp3Dk5U8kpkC0Uin4oYabqcMXvTeLM0rd2bPLjwQfksbcwobL-JJXBX9nrJgzuS4P9RJ8reRk.HBAHIwA2mYsLeAi9cjgcrGK82rB1c8r90MlLSkAv1ms&dib_tag=se&keywords=Sewing+Machines&qid=1722630953&s=kitchen&sr=1-6&ts_id=11712441'\n",
        "\n",
        "headers = {\"User-Agent\": \"Mozilla/5.0 (Macintosh; Intel Mac OS X 10_15_7) AppleWebKit/537.36 (KHTML, like Gecko) Chrome/127.0.0.0 Safari/537.36\"}\n",
        "\n",
        "page= requests.get(URL, headers=headers)\n",
        "\n",
        "soup1 = BeautifulSoup(page.content, \"html.parser\")\n",
        "\n",
        "soup2 = BeautifulSoup(soup1.prettify(), \"html.parser\")\n",
        "\n",
        "title = soup2.find(id='productTitle').get_text()\n",
        "\n",
        "price = soup2.find(class_='a-price-whole').get_text()\n",
        "\n",
        "\n",
        "\n",
        "print(title)\n",
        "print(price)"
      ],
      "metadata": {
        "colab": {
          "base_uri": "https://localhost:8080/"
        },
        "id": "pTBFt3qsyuuP",
        "outputId": "2dbb9fde-b80e-49c8-9bb6-44ce04748c20"
      },
      "execution_count": 49,
      "outputs": [
        {
          "output_type": "stream",
          "name": "stdout",
          "text": [
            "\n",
            "             Singer 4411 Heavy Duty Sewing Machine, Grey\n",
            "            \n",
            "\n",
            "                            191\n",
            "                            \n",
            "                             .\n",
            "                            \n",
            "\n"
          ]
        }
      ]
    },
    {
      "cell_type": "code",
      "source": [
        "price = price.strip()\n",
        "title = title.strip()\n",
        "date = datetime.date.today()\n",
        "\n",
        "print(title)\n",
        "print(price)\n",
        "print(date)\n",
        "\n"
      ],
      "metadata": {
        "colab": {
          "base_uri": "https://localhost:8080/"
        },
        "id": "jmk5yu1B7kjg",
        "outputId": "235f2bac-8373-4f9d-c71a-c7d4d824e348"
      },
      "execution_count": 50,
      "outputs": [
        {
          "output_type": "stream",
          "name": "stdout",
          "text": [
            "Singer 4411 Heavy Duty Sewing Machine, Grey\n",
            "191\n",
            "                            \n",
            "                             .\n",
            "2024-08-02\n"
          ]
        }
      ]
    },
    {
      "cell_type": "code",
      "source": [
        "import csv\n",
        "\n",
        "header = ['Title', 'Price', 'date']\n",
        "data = [title, price, date]\n",
        "\n",
        "# with open('AmazonWebScraperDataset.csv', 'w', newline='', encoding='UTF8') as f:\n",
        "#     writer = csv.writer(f)\n",
        "#     writer.writerow(header)\n",
        "#     writer.writerow(data)"
      ],
      "metadata": {
        "id": "j7GjRTtH8KEG"
      },
      "execution_count": 51,
      "outputs": []
    },
    {
      "cell_type": "code",
      "source": [
        "with open('AmazonWebScraperDataset.csv', 'a+', newline='', encoding='UTF8') as f:\n",
        "    writer = csv.writer(f)\n",
        "    writer.writerow(data)"
      ],
      "metadata": {
        "id": "O0yzch9W_r5u"
      },
      "execution_count": 52,
      "outputs": []
    },
    {
      "cell_type": "code",
      "source": [
        "def checkPrice():\n",
        "  # connect to url\n",
        "  URL = 'https://www.amazon.co.uk/Singer-4411-Heavy-Sewing-Machine/dp/B008CCK4RC/ref=sr_1_6?c=ts&dib=eyJ2IjoiMSJ9.codlmfQPk8aSg-c3z6CboM5EiC3bMvTnEepqywmT6oHpwz7hp5g9YMGTfnxafNE-PKMswrM8LFo_egWe0QYO4_em0keSNBKjLxKC9-8tM-vdMzFmYOuRPbGOn4ModY5zydT4LE6juwRzmUQQyyseSOQ7wCdW1IVmXfDocqDf0uQMTDq24xvxO68NZuadbDFvOKhLHCLh6wRd03CGuyknUTkuYQ5_LeHWHwDp3Dk5U8kpkC0Uin4oYabqcMXvTeLM0rd2bPLjwQfksbcwobL-JJXBX9nrJgzuS4P9RJ8reRk.HBAHIwA2mYsLeAi9cjgcrGK82rB1c8r90MlLSkAv1ms&dib_tag=se&keywords=Sewing+Machines&qid=1722630953&s=kitchen&sr=1-6&ts_id=11712441'\n",
        "\n",
        "  headers = {\"User-Agent\": \"Mozilla/5.0 (Macintosh; Intel Mac OS X 10_15_7) AppleWebKit/537.36 (KHTML, like Gecko) Chrome/127.0.0.0 Safari/537.36\"}\n",
        "\n",
        "  page= requests.get(URL, headers=headers)\n",
        "\n",
        "  soup1 = BeautifulSoup(page.content, \"html.parser\")\n",
        "\n",
        "  soup2 = BeautifulSoup(soup1.prettify(), \"html.parser\")\n",
        "\n",
        "  title = soup2.find(id='productTitle').get_text()\n",
        "\n",
        "  price = soup2.find(class_='a-price-whole').get_text()\n",
        "\n",
        "  price = price.strip()\n",
        "\n",
        "  title = title.strip()\n",
        "  date = datetime.date.today()\n",
        "  header = ['Title', 'Price', 'date']\n",
        "  data = [title, price, date]\n",
        "  with open('AmazonWebScraperDataset.csv', 'a+', newline='', encoding='UTF8') as f:\n",
        "    writer = csv.writer(f)\n",
        "    writer.writerow(data)"
      ],
      "metadata": {
        "id": "QChKeo1GBxAj"
      },
      "execution_count": 53,
      "outputs": []
    },
    {
      "cell_type": "code",
      "source": [
        "while(True):\n",
        "  checkPrice()\n",
        "  time.sleep(86400)"
      ],
      "metadata": {
        "id": "DCyvNYtQFejA"
      },
      "execution_count": null,
      "outputs": []
    }
  ]
}